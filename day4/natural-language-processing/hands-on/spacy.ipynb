{
  "nbformat": 4,
  "nbformat_minor": 0,
  "metadata": {
    "kernelspec": {
      "display_name": "Python 3",
      "language": "python",
      "name": "python3"
    },
    "language_info": {
      "codemirror_mode": {
        "name": "ipython",
        "version": 3
      },
      "file_extension": ".py",
      "mimetype": "text/x-python",
      "name": "python",
      "nbconvert_exporter": "python",
      "pygments_lexer": "ipython3",
      "version": "3.7.5"
    },
    "colab": {
      "name": "spacy.ipynb",
      "provenance": []
    }
  },
  "cells": [
    {
      "cell_type": "markdown",
      "metadata": {
        "id": "COli5rFPByIT",
        "colab_type": "text"
      },
      "source": [
        "O [spaCy](\"https://spacy.io\") é uma bilbioteca Python de código fonte [aberto](\"https://github.com/explosion/spaCy\") para Processamento de \n",
        "Linguagem Natural, constantemente a atualizada e mantida. Essa biblioteca é capaz de \n",
        "processar diversas línguas, inclusive o português brasileiro.\n",
        "\n",
        "### Instalação\n",
        "\n",
        "No linux, a instalação  da biblioteca spaCy pode ser feita com os comandos usuais de gerenciamento dos pacotes do Python, digitando no terminal os seguintes comandos "
      ]
    },
    {
      "cell_type": "code",
      "metadata": {
        "id": "WYUyAHqGByIW",
        "colab_type": "code",
        "colab": {}
      },
      "source": [
        "# $ pip3 install spacy  \n",
        "# ou\n",
        "# $ pip install spacy"
      ],
      "execution_count": 0,
      "outputs": []
    },
    {
      "cell_type": "markdown",
      "metadata": {
        "id": "7m5R8Bw1ByIb",
        "colab_type": "text"
      },
      "source": [
        "__Nota__:  omitir ‘#’ e ‘\\\\$’. O símbolo ‘#’ foi inserido para criar um comentário na cĺula que roda Python e o  símbolo ‘\\\\$’  é usado para indicar que se trata de um comando a ser digitado no terminal.\n",
        "\n",
        "Em seguida devemos baixar as ferramentas específicas para o português e para o inglês  com os seguintes comandos:"
      ]
    },
    {
      "cell_type": "code",
      "metadata": {
        "id": "tSu8iOsyByIc",
        "colab_type": "code",
        "colab": {}
      },
      "source": [
        "# $ python3 -m spacy download en\n",
        "# $ python3 -m spacy download pt"
      ],
      "execution_count": 0,
      "outputs": []
    },
    {
      "cell_type": "code",
      "metadata": {
        "id": "ms4SoTSaCUL1",
        "colab_type": "code",
        "outputId": "c007c037-d801-4f1f-f239-59705caa75e9",
        "colab": {
          "base_uri": "https://localhost:8080/",
          "height": 309
        }
      },
      "source": [
        "!python -m spacy download pt"
      ],
      "execution_count": 0,
      "outputs": [
        {
          "output_type": "stream",
          "text": [
            "Collecting pt_core_news_sm==2.1.0\n",
            "\u001b[?25l  Downloading https://github.com/explosion/spacy-models/releases/download/pt_core_news_sm-2.1.0/pt_core_news_sm-2.1.0.tar.gz (12.8MB)\n",
            "\u001b[K     |████████████████████████████████| 12.9MB 763kB/s \n",
            "\u001b[?25hBuilding wheels for collected packages: pt-core-news-sm\n",
            "  Building wheel for pt-core-news-sm (setup.py) ... \u001b[?25l\u001b[?25hdone\n",
            "  Created wheel for pt-core-news-sm: filename=pt_core_news_sm-2.1.0-cp36-none-any.whl size=12843677 sha256=9a1facc514f1098a386ec1a34b32e2a35c560cd46c4361b41b3791bef39dd721\n",
            "  Stored in directory: /tmp/pip-ephem-wheel-cache-5ki4bqge/wheels/a3/8f/c1/f036e3a7f1aa44fb06a534c6c4b1c2b773f101fdb1f163c08c\n",
            "Successfully built pt-core-news-sm\n",
            "Installing collected packages: pt-core-news-sm\n",
            "Successfully installed pt-core-news-sm-2.1.0\n",
            "\u001b[38;5;2m✔ Download and installation successful\u001b[0m\n",
            "You can now load the model via spacy.load('pt_core_news_sm')\n",
            "\u001b[38;5;2m✔ Linking successful\u001b[0m\n",
            "/usr/local/lib/python3.6/dist-packages/pt_core_news_sm -->\n",
            "/usr/local/lib/python3.6/dist-packages/spacy/data/pt\n",
            "You can now load the model via spacy.load('pt')\n"
          ],
          "name": "stdout"
        }
      ]
    },
    {
      "cell_type": "markdown",
      "metadata": {
        "id": "Ro9QDxyqByIf",
        "colab_type": "text"
      },
      "source": [
        "Uma vez que temos o pacote instalado e os módulos para português e inglês baixados,  podemos começar a utilizar  os spaCy, importando o pacote e carregando o módulo para português."
      ]
    },
    {
      "cell_type": "code",
      "metadata": {
        "id": "FVl9YqHCByIg",
        "colab_type": "code",
        "colab": {}
      },
      "source": [
        "import spacy\n",
        "spacyPT = spacy.load('pt')"
      ],
      "execution_count": 0,
      "outputs": []
    },
    {
      "cell_type": "markdown",
      "metadata": {
        "id": "pIXK3XQGByIj",
        "colab_type": "text"
      },
      "source": [
        "É importante notar que o spaCy assume que os caracteres estão codificado no formato utf-8.  O primeiro passo portanto é gerar uma entrada nesse formato e e submetê-lo ao módulo carregado."
      ]
    },
    {
      "cell_type": "code",
      "metadata": {
        "id": "WhgezG2lByIk",
        "colab_type": "code",
        "outputId": "07921c83-6a46-4849-eda1-b3f77dd1b897",
        "colab": {
          "base_uri": "https://localhost:8080/",
          "height": 34
        }
      },
      "source": [
        "entrada = spacyPT(u\"Mais vale um asno que me carregue que um cavalo que me derrube.\")\n",
        "entrada"
      ],
      "execution_count": 0,
      "outputs": [
        {
          "output_type": "execute_result",
          "data": {
            "text/plain": [
              "Mais vale um asno que me carregue que um cavalo que me derrube."
            ]
          },
          "metadata": {
            "tags": []
          },
          "execution_count": 5
        }
      ]
    },
    {
      "cell_type": "markdown",
      "metadata": {
        "id": "H1VKe-JQByIo",
        "colab_type": "text"
      },
      "source": [
        "### Tokenização (itemização)\n",
        "\n",
        "A entrada que acabamos de gerar é uma sequência iterável de tokens (itens,  \n",
        "ou instâncias de palavras). Se quisermos verificar qual o texto contido nessa \n",
        "sequência iterável,  usamos:"
      ]
    },
    {
      "cell_type": "code",
      "metadata": {
        "id": "qn6f2qgnByIp",
        "colab_type": "code",
        "outputId": "36ff36ed-1559-4c5a-8ba4-9091273c5ec2",
        "colab": {
          "base_uri": "https://localhost:8080/",
          "height": 34
        }
      },
      "source": [
        "entrada.text"
      ],
      "execution_count": 0,
      "outputs": [
        {
          "output_type": "execute_result",
          "data": {
            "text/plain": [
              "'Mais vale um asno que me carregue que um cavalo que me derrube.'"
            ]
          },
          "metadata": {
            "tags": []
          },
          "execution_count": 6
        }
      ]
    },
    {
      "cell_type": "markdown",
      "metadata": {
        "id": "NEqe_nRnByIs",
        "colab_type": "text"
      },
      "source": [
        "Se quisermos dividir a entrada em token,  podemos utilizar o método __split__: "
      ]
    },
    {
      "cell_type": "code",
      "metadata": {
        "id": "qQiBDM9TByIt",
        "colab_type": "code",
        "outputId": "ee9e1d97-ad8c-401e-def1-52759e530809",
        "colab": {
          "base_uri": "https://localhost:8080/",
          "height": 238
        }
      },
      "source": [
        "entrada.text.split()"
      ],
      "execution_count": 0,
      "outputs": [
        {
          "output_type": "execute_result",
          "data": {
            "text/plain": [
              "['Mais',\n",
              " 'vale',\n",
              " 'um',\n",
              " 'asno',\n",
              " 'que',\n",
              " 'me',\n",
              " 'carregue',\n",
              " 'que',\n",
              " 'um',\n",
              " 'cavalo',\n",
              " 'que',\n",
              " 'me',\n",
              " 'derrube.']"
            ]
          },
          "metadata": {
            "tags": []
          },
          "execution_count": 7
        }
      ]
    },
    {
      "cell_type": "markdown",
      "metadata": {
        "id": "mZUt43SJByIw",
        "colab_type": "text"
      },
      "source": [
        "Note que o ponto  final foi absorvido pela palavra;  o mesmo teria acontecido com \n",
        "outros sinais de pontuação a utilizar  o método __split__. Para separar a pontuação \n",
        "das palavras utilizamos a  eternização implícita realizada pelo comando __in__:"
      ]
    },
    {
      "cell_type": "code",
      "metadata": {
        "id": "gKBPtZfRByIx",
        "colab_type": "code",
        "outputId": "d7793736-7ff5-491b-ed51-a81814f06ff7",
        "colab": {
          "base_uri": "https://localhost:8080/",
          "height": 34
        }
      },
      "source": [
        "[token for token in entrada]"
      ],
      "execution_count": 0,
      "outputs": [
        {
          "output_type": "execute_result",
          "data": {
            "text/plain": [
              "[Mais, vale, um, asno, que, me, carregue, que, um, cavalo, que, me, derrube, .]"
            ]
          },
          "metadata": {
            "tags": []
          },
          "execution_count": 8
        }
      ]
    },
    {
      "cell_type": "markdown",
      "metadata": {
        "id": "1G9MiJC-ByI0",
        "colab_type": "text"
      },
      "source": [
        "Note que os streams não estão entre aspas,  pois na realidade esta lista contém uma sequência de objetos da classe __Token__. \n",
        "\n",
        "Se o objetivo é obter uma lista de Strings,  podemos proceder da seguinte maneira.\n"
      ]
    },
    {
      "cell_type": "code",
      "metadata": {
        "id": "rIVN_OOhByI1",
        "colab_type": "code",
        "outputId": "4803927d-34cd-4bbe-e344-1a452461ff4b",
        "colab": {
          "base_uri": "https://localhost:8080/",
          "height": 255
        }
      },
      "source": [
        "[token.text for token in entrada]"
      ],
      "execution_count": 0,
      "outputs": [
        {
          "output_type": "execute_result",
          "data": {
            "text/plain": [
              "['Mais',\n",
              " 'vale',\n",
              " 'um',\n",
              " 'asno',\n",
              " 'que',\n",
              " 'me',\n",
              " 'carregue',\n",
              " 'que',\n",
              " 'um',\n",
              " 'cavalo',\n",
              " 'que',\n",
              " 'me',\n",
              " 'derrube',\n",
              " '.']"
            ]
          },
          "metadata": {
            "tags": []
          },
          "execution_count": 9
        }
      ]
    },
    {
      "cell_type": "markdown",
      "metadata": {
        "id": "9JZ1PPT0ByI4",
        "colab_type": "text"
      },
      "source": [
        "E para eliminar totalmente a pontuação da lista,  é só restringirr  a sua criação usando __is_punct__."
      ]
    },
    {
      "cell_type": "code",
      "metadata": {
        "id": "wnJCjK1MByI5",
        "colab_type": "code",
        "outputId": "1584e4a0-f3f2-4a98-acab-53d734c3acce",
        "colab": {
          "base_uri": "https://localhost:8080/",
          "height": 238
        }
      },
      "source": [
        "[token.text for token in entrada if not token.is_punct]"
      ],
      "execution_count": 0,
      "outputs": [
        {
          "output_type": "execute_result",
          "data": {
            "text/plain": [
              "['Mais',\n",
              " 'vale',\n",
              " 'um',\n",
              " 'asno',\n",
              " 'que',\n",
              " 'me',\n",
              " 'carregue',\n",
              " 'que',\n",
              " 'um',\n",
              " 'cavalo',\n",
              " 'que',\n",
              " 'me',\n",
              " 'derrube']"
            ]
          },
          "metadata": {
            "tags": []
          },
          "execution_count": 10
        }
      ]
    },
    {
      "cell_type": "markdown",
      "metadata": {
        "id": "_yeKux8KByI8",
        "colab_type": "text"
      },
      "source": [
        "O spaCy já vem treinando para realizar etiquetagem morfossintática (PoS tagging),  o que pode ser mostrado da seguinte maneira."
      ]
    },
    {
      "cell_type": "code",
      "metadata": {
        "id": "wPlVtwFKByI9",
        "colab_type": "code",
        "outputId": "a644e7ef-464c-40b7-8490-b1675b5a8e6d",
        "colab": {
          "base_uri": "https://localhost:8080/",
          "height": 255
        }
      },
      "source": [
        "[(token.text, token.pos_) for token in entrada]"
      ],
      "execution_count": 0,
      "outputs": [
        {
          "output_type": "execute_result",
          "data": {
            "text/plain": [
              "[('Mais', 'ADV'),\n",
              " ('vale', 'VERB'),\n",
              " ('um', 'DET'),\n",
              " ('asno', 'NOUN'),\n",
              " ('que', 'PRON'),\n",
              " ('me', 'PRON'),\n",
              " ('carregue', 'VERB'),\n",
              " ('que', 'SCONJ'),\n",
              " ('um', 'DET'),\n",
              " ('cavalo', 'NOUN'),\n",
              " ('que', 'PRON'),\n",
              " ('me', 'PRON'),\n",
              " ('derrube', 'VERB'),\n",
              " ('.', 'PUNCT')]"
            ]
          },
          "metadata": {
            "tags": []
          },
          "execution_count": 11
        }
      ]
    },
    {
      "cell_type": "markdown",
      "metadata": {
        "id": "lYlMht_aByJA",
        "colab_type": "text"
      },
      "source": [
        "Note que ele foi capaz de identificar quais as ocorrências da palavra _que_  são pronomes relativos e qual ocorrência é uma conjunção complementizadora.  Infelizmente não foi capaz de identificar que a palavra _asno_ é um substantivo,  possivelmente porque essa palavra não pertence ao seu dicionário interno;  infelizmente também não temos como retreinar o etiquetador morfossintático do spaCy, em busca de maior precisão.  Neste casos só nos resta tentar implementar um outro etiquetador.\n",
        "\n",
        "Mesmo assim,  assistência de Ticket a dor nos permite fazer buscas bastante sofisticadas. Por exemplo podemos buscar os lemas de todos os verbos encontrados  na sentença."
      ]
    },
    {
      "cell_type": "code",
      "metadata": {
        "id": "YUWnUFibByJB",
        "colab_type": "code",
        "outputId": "94917412-cbee-4388-d8dc-8e52cd85eb85",
        "colab": {
          "base_uri": "https://localhost:8080/",
          "height": 34
        }
      },
      "source": [
        "[token.lemma_ for token in entrada if token.pos_ == 'VERB']"
      ],
      "execution_count": 0,
      "outputs": [
        {
          "output_type": "execute_result",
          "data": {
            "text/plain": [
              "['valer', 'carregar', 'derrubar']"
            ]
          },
          "metadata": {
            "tags": []
          },
          "execution_count": 12
        }
      ]
    },
    {
      "cell_type": "markdown",
      "metadata": {
        "id": "ZBO2BY8XByJE",
        "colab_type": "text"
      },
      "source": [
        "Os lemas de verbos conjugados nos fornecem  a sua forma infinitiva."
      ]
    },
    {
      "cell_type": "markdown",
      "metadata": {
        "id": "TAzxDFHhByJF",
        "colab_type": "text"
      },
      "source": [
        "### Reconhecimento de entidades nomeadas\n",
        "\n",
        "A biblioteca já vem treinada com u  mecanismo que permite o reconhecimento de \n",
        "entidades mencionada (nomeadas). "
      ]
    },
    {
      "cell_type": "markdown",
      "metadata": {
        "id": "RsXbdTghByJG",
        "colab_type": "text"
      },
      "source": [
        ""
      ]
    },
    {
      "cell_type": "code",
      "metadata": {
        "id": "Ua1aKRoSByJH",
        "colab_type": "code",
        "outputId": "247c8e7a-8e5c-42ad-ed68-3400346f1fa1",
        "colab": {
          "base_uri": "https://localhost:8080/",
          "height": 51
        }
      },
      "source": [
        "texto2 = spacyPT(u\"O presidente Bolsonaro deu uma ordem ao Ministério do Meio Ambiente, que gerou calafrios no Congresso.\")\n",
        "print(texto2.ents)\n",
        "[(entidade,entidade.label_) for entidade in texto2.ents]"
      ],
      "execution_count": 0,
      "outputs": [
        {
          "output_type": "stream",
          "text": [
            "(Bolsonaro, Ministério do Meio Ambiente, Congresso)\n"
          ],
          "name": "stdout"
        },
        {
          "output_type": "execute_result",
          "data": {
            "text/plain": [
              "[(Bolsonaro, 'PER'), (Ministério do Meio Ambiente, 'LOC'), (Congresso, 'LOC')]"
            ]
          },
          "metadata": {
            "tags": []
          },
          "execution_count": 13
        }
      ]
    },
    {
      "cell_type": "markdown",
      "metadata": {
        "id": "ug2fLodtByJO",
        "colab_type": "text"
      },
      "source": [
        "Note que ele acertou no reconhecimento das três entidades nomeadas, porém errou na \n",
        "classificação dos três;  a primeira identidade é uma pessoa e as duas últimas são \n",
        "organizações.  Há bastante margem para melhorias de precisão com algoritmos mais \n",
        "robustos e treinados com muito mais dados."
      ]
    }
  ]
}