{
  "nbformat": 4,
  "nbformat_minor": 0,
  "metadata": {
    "colab": {
      "name": "Keras Introduction.ipynb",
      "provenance": [],
      "collapsed_sections": []
    },
    "kernelspec": {
      "name": "python3",
      "display_name": "Python 3"
    }
  },
  "cells": [
    {
      "cell_type": "markdown",
      "metadata": {
        "id": "kGHhgFL57Knw",
        "colab_type": "text"
      },
      "source": [
        "Autoencoder\n",
        "---\n",
        "Autoencoder are neural networks composed of two parts: The encoder and decoder.\n",
        "The encoder takes the input and compress it to a latent vector z. The decoder takes the latent as input and try to reconstruct the input data. \n",
        "\n",
        "The network is trained to reconstruct the input data through the bottleneck created by the encoder-decoder.\n",
        "We are going to create an autoencoder with Keras framework\n",
        "\n",
        "Keras framework.\n",
        "---\n",
        "Keras is a framework to help create deep neural networks easily and efficiently. \n",
        "To create a neural network in Keras is needed to define:\n",
        "The layers of the network, \n",
        "1. Create the Model.\n",
        "2. Load the dataset.\n",
        "3. Train the network.\n",
        "4. Make the Prediction\n",
        "\n",
        "Import the Keras Framework\n",
        "---\n"
      ]
    },
    {
      "cell_type": "code",
      "metadata": {
        "id": "lclA1ywL7AyH",
        "colab_type": "code",
        "outputId": "56ad326f-1767-4636-f078-76bf4572bf47",
        "colab": {
          "base_uri": "https://localhost:8080/",
          "height": 140
        }
      },
      "source": [
        "%tensorflow_version 1.x  # This is to allow tensorflow v1 with keras.\n",
        "import keras.backend as K #Import the keras backend that contains basic operations such as Cos, Exp, Log and so on.\n",
        "from keras.models import Model, Sequential # it will be used to create the models (encoder, decoder, Autoencoder).\n",
        "from keras.layers import Dense, Input # it imports the layer(s) to be used in the contruction.\n",
        "from keras.losses import mean_squared_error, binary_crossentropy # loss function to be optimized.\n",
        "from keras.optimizers import SGD, RMSprop, Adam # optimization algorithm.\n",
        "from keras.datasets import mnist, fashion_mnist # Datasets to be used in the experiments.\n",
        "\n",
        "import numpy as np\n",
        "\n",
        "import matplotlib.pyplot as plt # Plot and show stuff\n",
        "%matplotlib inline"
      ],
      "execution_count": 0,
      "outputs": [
        {
          "output_type": "stream",
          "text": [
            "`%tensorflow_version` only switches the major version: `1.x` or `2.x`.\n",
            "You set: `1.x  # This is to allow tensorflow v1 with keras.`. This will be interpreted as: `1.x`.\n",
            "\n",
            "\n",
            "TensorFlow 1.x selected.\n"
          ],
          "name": "stdout"
        },
        {
          "output_type": "stream",
          "text": [
            "Using TensorFlow backend.\n"
          ],
          "name": "stderr"
        }
      ]
    },
    {
      "cell_type": "markdown",
      "metadata": {
        "id": "HFMtj8wQBFYp",
        "colab_type": "text"
      },
      "source": [
        "Model of the Encoder\n",
        "---\n",
        "The encoder will be composed of  Dense Layers."
      ]
    },
    {
      "cell_type": "code",
      "metadata": {
        "id": "cQn1uO63BdYe",
        "colab_type": "code",
        "outputId": "c3003003-69e2-4976-b445-a0d1919e07e3",
        "colab": {
          "base_uri": "https://localhost:8080/",
          "height": 346
        }
      },
      "source": [
        "\n",
        "latent_dim = 10 #latent dimension\n",
        "\n",
        "encoder = Sequential(name=\"encoder\") # Instanciate the encoder model\n",
        "encoder.add(Dense(128, input_shape=(784,), activation=\"relu\")) # first dense layer with input shape 784 = 28*28\n",
        " # You can add more layers if you want here.\n",
        "encoder.add(Dense(latent_dim)) # Latent vector.\n",
        "encoder.summary() # shows the structure of networks.\n"
      ],
      "execution_count": 0,
      "outputs": [
        {
          "output_type": "stream",
          "text": [
            "WARNING:tensorflow:From /usr/local/lib/python3.6/dist-packages/keras/backend/tensorflow_backend.py:66: The name tf.get_default_graph is deprecated. Please use tf.compat.v1.get_default_graph instead.\n",
            "\n",
            "WARNING:tensorflow:From /usr/local/lib/python3.6/dist-packages/keras/backend/tensorflow_backend.py:541: The name tf.placeholder is deprecated. Please use tf.compat.v1.placeholder instead.\n",
            "\n",
            "WARNING:tensorflow:From /usr/local/lib/python3.6/dist-packages/keras/backend/tensorflow_backend.py:4432: The name tf.random_uniform is deprecated. Please use tf.random.uniform instead.\n",
            "\n",
            "Model: \"encoder\"\n",
            "_________________________________________________________________\n",
            "Layer (type)                 Output Shape              Param #   \n",
            "=================================================================\n",
            "dense_1 (Dense)              (None, 128)               100480    \n",
            "_________________________________________________________________\n",
            "dense_2 (Dense)              (None, 10)                1290      \n",
            "=================================================================\n",
            "Total params: 101,770\n",
            "Trainable params: 101,770\n",
            "Non-trainable params: 0\n",
            "_________________________________________________________________\n"
          ],
          "name": "stdout"
        }
      ]
    },
    {
      "cell_type": "markdown",
      "metadata": {
        "id": "IXxqQfWBKxSd",
        "colab_type": "text"
      },
      "source": [
        "Model of the Decoder\n",
        "---\n",
        "The Decoder will be composed of \n",
        " Dense Layers.\n"
      ]
    },
    {
      "cell_type": "code",
      "metadata": {
        "id": "ve_f10NpLRCb",
        "colab_type": "code",
        "outputId": "99b29437-a450-4172-e037-0e5c914d6403",
        "colab": {
          "base_uri": "https://localhost:8080/",
          "height": 223
        }
      },
      "source": [
        "decoder =  Sequential(name=\"decoder\")\n",
        "\n",
        "decoder.add(Dense(128, activation=\"relu\", input_shape=(latent_dim,) )) # Input of the autoencoder with the latent dimension\n",
        " # You can add more layers if you want here.\n",
        "decoder.add(Dense(784, activation=\"sigmoid\")) # Output of the decoder with shape 784 = 28*28.\n",
        "decoder.summary()\n"
      ],
      "execution_count": 0,
      "outputs": [
        {
          "output_type": "stream",
          "text": [
            "Model: \"decoder\"\n",
            "_________________________________________________________________\n",
            "Layer (type)                 Output Shape              Param #   \n",
            "=================================================================\n",
            "dense_3 (Dense)              (None, 128)               1408      \n",
            "_________________________________________________________________\n",
            "dense_4 (Dense)              (None, 784)               101136    \n",
            "=================================================================\n",
            "Total params: 102,544\n",
            "Trainable params: 102,544\n",
            "Non-trainable params: 0\n",
            "_________________________________________________________________\n"
          ],
          "name": "stdout"
        }
      ]
    },
    {
      "cell_type": "markdown",
      "metadata": {
        "id": "WSYqpe79MoT6",
        "colab_type": "text"
      },
      "source": [
        "Autoencoder Model\n",
        "---\n",
        "The autoencoder combines the encoder and decoder models."
      ]
    },
    {
      "cell_type": "code",
      "metadata": {
        "id": "nznS7h35NG3U",
        "colab_type": "code",
        "outputId": "c707a8de-feaf-4b51-eeeb-291f7579ea19",
        "colab": {
          "base_uri": "https://localhost:8080/",
          "height": 257
        }
      },
      "source": [
        "input_img = Input(shape=(784,) ) # Defines the Input of the AE. 784 =28*28\n",
        "z = encoder(input_img) # It obtains the latent vector from input image using the encoder.\n",
        "recons = decoder(z) # it tries to reconstruct the input image from the input image.\n",
        "ae = Model(input_img, recons) # Creates the AE model using the input of encoder (input_img) and output of decoder (recons).\n",
        "ae.summary() # Show the model"
      ],
      "execution_count": 0,
      "outputs": [
        {
          "output_type": "stream",
          "text": [
            "Model: \"model_1\"\n",
            "_________________________________________________________________\n",
            "Layer (type)                 Output Shape              Param #   \n",
            "=================================================================\n",
            "input_1 (InputLayer)         (None, 784)               0         \n",
            "_________________________________________________________________\n",
            "encoder (Sequential)         (None, 10)                101770    \n",
            "_________________________________________________________________\n",
            "decoder (Sequential)         (None, 784)               102544    \n",
            "=================================================================\n",
            "Total params: 204,314\n",
            "Trainable params: 204,314\n",
            "Non-trainable params: 0\n",
            "_________________________________________________________________\n"
          ],
          "name": "stdout"
        }
      ]
    },
    {
      "cell_type": "markdown",
      "metadata": {
        "id": "EdUayf5TO3Mu",
        "colab_type": "text"
      },
      "source": [
        "Loss Function\n",
        "---\n",
        "After the model is defined, we need to compile the model, defining what is the loss function and the optimization algorithm to be used during the training process."
      ]
    },
    {
      "cell_type": "code",
      "metadata": {
        "id": "_c7EVT7PQIVF",
        "colab_type": "code",
        "outputId": "cd4703ca-959a-4e68-ceec-5d2a1f14b675",
        "colab": {
          "base_uri": "https://localhost:8080/",
          "height": 71
        }
      },
      "source": [
        "opt = RMSprop(lr=1e-3) #Instanciates the optimizer setting the learning rate.\n",
        "ae.compile(optimizer=opt, loss=mean_squared_error, metrics=[\"mean_squared_error\"]) # compiles the model defining the optimization algorithm, loss function and metrics."
      ],
      "execution_count": 0,
      "outputs": [
        {
          "output_type": "stream",
          "text": [
            "WARNING:tensorflow:From /usr/local/lib/python3.6/dist-packages/keras/optimizers.py:793: The name tf.train.Optimizer is deprecated. Please use tf.compat.v1.train.Optimizer instead.\n",
            "\n"
          ],
          "name": "stdout"
        }
      ]
    },
    {
      "cell_type": "markdown",
      "metadata": {
        "id": "nLt2ZyV8RYdi",
        "colab_type": "text"
      },
      "source": [
        "Datasets\n",
        "---\n",
        "We need to load the dataset. Often, the datasets are loaded from files. In such situation we should use Dataloader avaliable in Keras framework or use other means.\n",
        "In our case, the dataset MNIST and MNIST fashion can be loaded using Keras API.\n",
        "\n"
      ]
    },
    {
      "cell_type": "code",
      "metadata": {
        "id": "oXjw0daLR_oo",
        "colab_type": "code",
        "outputId": "ed0b3ffa-2672-4b68-df42-deb1d51ca119",
        "colab": {
          "base_uri": "https://localhost:8080/",
          "height": 265
        }
      },
      "source": [
        "(x_train,y_train), (x_test,y_test) =  mnist.load_data() # Load mnist digits images and labels for train (x_train, y_train) and test (x_test, y_test).\n",
        "# x_train is a tensor with 60.000 28x28 digits images for training.\n",
        "# y_train is an array with labels for each images in train dataset.\n",
        "\n",
        "# x_test is a tensor with 10.000 28x28 digits images for testing.\n",
        "# y_test is an array with labels for each images in test set.\n",
        "\n",
        "image = x_train[1040] # get the an image\n",
        "\n",
        "plt.imshow(image) # show the digit just for curiosity.\n",
        "plt.show()\n"
      ],
      "execution_count": 0,
      "outputs": [
        {
          "output_type": "display_data",
          "data": {
            "image/png": "[encoded data removed]",
            "text/plain": [
              "<Figure size 432x288 with 1 Axes>"
            ]
          },
          "metadata": {
            "tags": []
          }
        }
      ]
    },
    {
      "cell_type": "markdown",
      "metadata": {
        "id": "4GOHDJfVT_RY",
        "colab_type": "text"
      },
      "source": [
        "Preprocessing the Dataset\n",
        "---\n",
        "1. The image if composed of pixels with values in the range [0-255]. It is a good practice to normalize the dataset to stay in the range [0-1].\n",
        "\n",
        "2. Our AE is made of Dense layers. In such situation we need to flatten the image from (28,28) to 784 allowing to feed the network."
      ]
    },
    {
      "cell_type": "code",
      "metadata": {
        "id": "V55dw_XrVD_H",
        "colab_type": "code",
        "outputId": "cf19f6b6-99fd-4100-ce65-fe8a20ae59dc",
        "colab": {
          "base_uri": "https://localhost:8080/",
          "height": 1000
        }
      },
      "source": [
        "x_train = (x_train/255.0).astype(np.float32) # normalize the image and convert it to float.\n",
        "x_test = (x_test/255.0).astype(np.float32) # normalize the image and convert it to float.\n",
        "\n",
        "x_train = np.reshape(x_train, (-1, 784)) # Reshape the tensor to convert from the shape [60000, 28,28] => [60000, 784]\n",
        "x_test = np.reshape(x_test, (-1, 784)) # Reshape the tensor to convert from the shape [10000, 28,28] => [10000, 784]\n",
        "print(x_train[0]) #just for curiosity display the contat of a flatten image.\n"
      ],
      "execution_count": 0,
      "outputs": [
        {
          "output_type": "stream",
          "text": [
            "[0.         0.         0.         0.         0.         0.\n",
            " 0.         0.         0.         0.         0.         0.\n",
            " 0.         0.         0.         0.         0.         0.\n",
            " 0.         0.         0.         0.         0.         0.\n",
            " 0.         0.         0.         0.         0.         0.\n",
            " 0.         0.         0.         0.         0.         0.\n",
            " 0.         0.         0.         0.         0.         0.\n",
            " 0.         0.         0.         0.         0.         0.\n",
            " 0.         0.         0.         0.         0.         0.\n",
            " 0.         0.         0.         0.         0.         0.\n",
            " 0.         0.         0.         0.         0.         0.\n",
            " 0.         0.         0.         0.         0.         0.\n",
            " 0.         0.         0.         0.         0.         0.\n",
            " 0.         0.         0.         0.         0.         0.\n",
            " 0.         0.         0.         0.         0.         0.\n",
            " 0.         0.         0.         0.         0.         0.\n",
            " 0.         0.         0.         0.         0.         0.\n",
            " 0.         0.         0.         0.         0.         0.\n",
            " 0.         0.         0.         0.         0.         0.\n",
            " 0.         0.         0.         0.         0.         0.\n",
            " 0.         0.         0.         0.         0.         0.\n",
            " 0.         0.         0.         0.         0.         0.\n",
            " 0.         0.         0.         0.         0.         0.\n",
            " 0.         0.         0.         0.         0.         0.\n",
            " 0.         0.         0.         0.         0.         0.\n",
            " 0.         0.         0.01176471 0.07058824 0.07058824 0.07058824\n",
            " 0.49411765 0.53333336 0.6862745  0.10196079 0.6509804  1.\n",
            " 0.96862745 0.49803922 0.         0.         0.         0.\n",
            " 0.         0.         0.         0.         0.         0.\n",
            " 0.         0.         0.11764706 0.14117648 0.36862746 0.6039216\n",
            " 0.6666667  0.99215686 0.99215686 0.99215686 0.99215686 0.99215686\n",
            " 0.88235295 0.6745098  0.99215686 0.9490196  0.7647059  0.2509804\n",
            " 0.         0.         0.         0.         0.         0.\n",
            " 0.         0.         0.         0.         0.         0.19215687\n",
            " 0.93333334 0.99215686 0.99215686 0.99215686 0.99215686 0.99215686\n",
            " 0.99215686 0.99215686 0.99215686 0.9843137  0.3647059  0.32156864\n",
            " 0.32156864 0.21960784 0.15294118 0.         0.         0.\n",
            " 0.         0.         0.         0.         0.         0.\n",
            " 0.         0.         0.         0.07058824 0.85882354 0.99215686\n",
            " 0.99215686 0.99215686 0.99215686 0.99215686 0.7764706  0.7137255\n",
            " 0.96862745 0.94509804 0.         0.         0.         0.\n",
            " 0.         0.         0.         0.         0.         0.\n",
            " 0.         0.         0.         0.         0.         0.\n",
            " 0.         0.         0.3137255  0.6117647  0.41960785 0.99215686\n",
            " 0.99215686 0.8039216  0.04313726 0.         0.16862746 0.6039216\n",
            " 0.         0.         0.         0.         0.         0.\n",
            " 0.         0.         0.         0.         0.         0.\n",
            " 0.         0.         0.         0.         0.         0.\n",
            " 0.         0.05490196 0.00392157 0.6039216  0.99215686 0.3529412\n",
            " 0.         0.         0.         0.         0.         0.\n",
            " 0.         0.         0.         0.         0.         0.\n",
            " 0.         0.         0.         0.         0.         0.\n",
            " 0.         0.         0.         0.         0.         0.\n",
            " 0.         0.54509807 0.99215686 0.74509805 0.00784314 0.\n",
            " 0.         0.         0.         0.         0.         0.\n",
            " 0.         0.         0.         0.         0.         0.\n",
            " 0.         0.         0.         0.         0.         0.\n",
            " 0.         0.         0.         0.         0.         0.04313726\n",
            " 0.74509805 0.99215686 0.27450982 0.         0.         0.\n",
            " 0.         0.         0.         0.         0.         0.\n",
            " 0.         0.         0.         0.         0.         0.\n",
            " 0.         0.         0.         0.         0.         0.\n",
            " 0.         0.         0.         0.         0.13725491 0.94509804\n",
            " 0.88235295 0.627451   0.42352942 0.00392157 0.         0.\n",
            " 0.         0.         0.         0.         0.         0.\n",
            " 0.         0.         0.         0.         0.         0.\n",
            " 0.         0.         0.         0.         0.         0.\n",
            " 0.         0.         0.         0.31764707 0.9411765  0.99215686\n",
            " 0.99215686 0.46666667 0.09803922 0.         0.         0.\n",
            " 0.         0.         0.         0.         0.         0.\n",
            " 0.         0.         0.         0.         0.         0.\n",
            " 0.         0.         0.         0.         0.         0.\n",
            " 0.         0.         0.1764706  0.7294118  0.99215686 0.99215686\n",
            " 0.5882353  0.10588235 0.         0.         0.         0.\n",
            " 0.         0.         0.         0.         0.         0.\n",
            " 0.         0.         0.         0.         0.         0.\n",
            " 0.         0.         0.         0.         0.         0.\n",
            " 0.         0.0627451  0.3647059  0.9882353  0.99215686 0.73333335\n",
            " 0.         0.         0.         0.         0.         0.\n",
            " 0.         0.         0.         0.         0.         0.\n",
            " 0.         0.         0.         0.         0.         0.\n",
            " 0.         0.         0.         0.         0.         0.\n",
            " 0.         0.9764706  0.99215686 0.9764706  0.2509804  0.\n",
            " 0.         0.         0.         0.         0.         0.\n",
            " 0.         0.         0.         0.         0.         0.\n",
            " 0.         0.         0.         0.         0.         0.\n",
            " 0.         0.         0.18039216 0.50980395 0.7176471  0.99215686\n",
            " 0.99215686 0.8117647  0.00784314 0.         0.         0.\n",
            " 0.         0.         0.         0.         0.         0.\n",
            " 0.         0.         0.         0.         0.         0.\n",
            " 0.         0.         0.         0.         0.15294118 0.5803922\n",
            " 0.8980392  0.99215686 0.99215686 0.99215686 0.98039216 0.7137255\n",
            " 0.         0.         0.         0.         0.         0.\n",
            " 0.         0.         0.         0.         0.         0.\n",
            " 0.         0.         0.         0.         0.         0.\n",
            " 0.09411765 0.44705883 0.8666667  0.99215686 0.99215686 0.99215686\n",
            " 0.99215686 0.7882353  0.30588236 0.         0.         0.\n",
            " 0.         0.         0.         0.         0.         0.\n",
            " 0.         0.         0.         0.         0.         0.\n",
            " 0.         0.         0.09019608 0.25882354 0.8352941  0.99215686\n",
            " 0.99215686 0.99215686 0.99215686 0.7764706  0.31764707 0.00784314\n",
            " 0.         0.         0.         0.         0.         0.\n",
            " 0.         0.         0.         0.         0.         0.\n",
            " 0.         0.         0.         0.         0.07058824 0.67058825\n",
            " 0.85882354 0.99215686 0.99215686 0.99215686 0.99215686 0.7647059\n",
            " 0.3137255  0.03529412 0.         0.         0.         0.\n",
            " 0.         0.         0.         0.         0.         0.\n",
            " 0.         0.         0.         0.         0.         0.\n",
            " 0.21568628 0.6745098  0.8862745  0.99215686 0.99215686 0.99215686\n",
            " 0.99215686 0.95686275 0.52156866 0.04313726 0.         0.\n",
            " 0.         0.         0.         0.         0.         0.\n",
            " 0.         0.         0.         0.         0.         0.\n",
            " 0.         0.         0.         0.         0.53333336 0.99215686\n",
            " 0.99215686 0.99215686 0.83137256 0.5294118  0.5176471  0.0627451\n",
            " 0.         0.         0.         0.         0.         0.\n",
            " 0.         0.         0.         0.         0.         0.\n",
            " 0.         0.         0.         0.         0.         0.\n",
            " 0.         0.         0.         0.         0.         0.\n",
            " 0.         0.         0.         0.         0.         0.\n",
            " 0.         0.         0.         0.         0.         0.\n",
            " 0.         0.         0.         0.         0.         0.\n",
            " 0.         0.         0.         0.         0.         0.\n",
            " 0.         0.         0.         0.         0.         0.\n",
            " 0.         0.         0.         0.         0.         0.\n",
            " 0.         0.         0.         0.         0.         0.\n",
            " 0.         0.         0.         0.         0.         0.\n",
            " 0.         0.         0.         0.         0.         0.\n",
            " 0.         0.         0.         0.         0.         0.\n",
            " 0.         0.         0.         0.         0.         0.\n",
            " 0.         0.         0.         0.         0.         0.\n",
            " 0.         0.         0.         0.        ]\n"
          ],
          "name": "stdout"
        }
      ]
    },
    {
      "cell_type": "markdown",
      "metadata": {
        "id": "oSczqeXJWODj",
        "colab_type": "text"
      },
      "source": [
        "Train the Network\n",
        "---\n",
        "With the data, we can train the autoencoder using the method fit of the model.\n"
      ]
    },
    {
      "cell_type": "code",
      "metadata": {
        "id": "xAQk-ZqmWXX7",
        "colab_type": "code",
        "outputId": "8386bbd6-0df1-4434-8f9b-f9a52332a1dd",
        "colab": {
          "base_uri": "https://localhost:8080/",
          "height": 688
        }
      },
      "source": [
        "\n",
        "batch_size = 128\n",
        "epochs = 10\n",
        "ae.fit(x_train, x_train, batch_size=batch_size, epochs = epochs, validation_data=(x_test,x_test), verbose=1)"
      ],
      "execution_count": 0,
      "outputs": [
        {
          "output_type": "stream",
          "text": [
            "WARNING:tensorflow:From /usr/local/lib/python3.6/dist-packages/keras/backend/tensorflow_backend.py:1033: The name tf.assign_add is deprecated. Please use tf.compat.v1.assign_add instead.\n",
            "\n",
            "WARNING:tensorflow:From /usr/local/lib/python3.6/dist-packages/keras/backend/tensorflow_backend.py:1020: The name tf.assign is deprecated. Please use tf.compat.v1.assign instead.\n",
            "\n",
            "WARNING:tensorflow:From /usr/local/lib/python3.6/dist-packages/keras/backend/tensorflow_backend.py:3005: The name tf.Session is deprecated. Please use tf.compat.v1.Session instead.\n",
            "\n",
            "Train on 60000 samples, validate on 10000 samples\n",
            "Epoch 1/10\n",
            "WARNING:tensorflow:From /usr/local/lib/python3.6/dist-packages/keras/backend/tensorflow_backend.py:190: The name tf.get_default_session is deprecated. Please use tf.compat.v1.get_default_session instead.\n",
            "\n",
            "WARNING:tensorflow:From /usr/local/lib/python3.6/dist-packages/keras/backend/tensorflow_backend.py:197: The name tf.ConfigProto is deprecated. Please use tf.compat.v1.ConfigProto instead.\n",
            "\n",
            "WARNING:tensorflow:From /usr/local/lib/python3.6/dist-packages/keras/backend/tensorflow_backend.py:207: The name tf.global_variables is deprecated. Please use tf.compat.v1.global_variables instead.\n",
            "\n",
            "WARNING:tensorflow:From /usr/local/lib/python3.6/dist-packages/keras/backend/tensorflow_backend.py:216: The name tf.is_variable_initialized is deprecated. Please use tf.compat.v1.is_variable_initialized instead.\n",
            "\n",
            "WARNING:tensorflow:From /usr/local/lib/python3.6/dist-packages/keras/backend/tensorflow_backend.py:223: The name tf.variables_initializer is deprecated. Please use tf.compat.v1.variables_initializer instead.\n",
            "\n",
            "60000/60000 [==============================] - 5s 80us/step - loss: 0.0401 - mean_squared_error: 0.0401 - val_loss: 0.0277 - val_mean_squared_error: 0.0277\n",
            "Epoch 2/10\n",
            "60000/60000 [==============================] - 4s 67us/step - loss: 0.0261 - mean_squared_error: 0.0261 - val_loss: 0.0238 - val_mean_squared_error: 0.0238\n",
            "Epoch 3/10\n",
            "60000/60000 [==============================] - 4s 67us/step - loss: 0.0236 - mean_squared_error: 0.0236 - val_loss: 0.0225 - val_mean_squared_error: 0.0225\n",
            "Epoch 4/10\n",
            "60000/60000 [==============================] - 4s 67us/step - loss: 0.0223 - mean_squared_error: 0.0223 - val_loss: 0.0216 - val_mean_squared_error: 0.0216\n",
            "Epoch 5/10\n",
            "60000/60000 [==============================] - 4s 67us/step - loss: 0.0214 - mean_squared_error: 0.0214 - val_loss: 0.0207 - val_mean_squared_error: 0.0207\n",
            "Epoch 6/10\n",
            "60000/60000 [==============================] - 4s 67us/step - loss: 0.0208 - mean_squared_error: 0.0208 - val_loss: 0.0205 - val_mean_squared_error: 0.0205\n",
            "Epoch 7/10\n",
            "60000/60000 [==============================] - 4s 66us/step - loss: 0.0203 - mean_squared_error: 0.0203 - val_loss: 0.0200 - val_mean_squared_error: 0.0200\n",
            "Epoch 8/10\n",
            "60000/60000 [==============================] - 4s 67us/step - loss: 0.0200 - mean_squared_error: 0.0200 - val_loss: 0.0195 - val_mean_squared_error: 0.0195\n",
            "Epoch 9/10\n",
            "60000/60000 [==============================] - 4s 68us/step - loss: 0.0198 - mean_squared_error: 0.0198 - val_loss: 0.0197 - val_mean_squared_error: 0.0197\n",
            "Epoch 10/10\n",
            "60000/60000 [==============================] - 4s 68us/step - loss: 0.0198 - mean_squared_error: 0.0198 - val_loss: 0.0205 - val_mean_squared_error: 0.0205\n"
          ],
          "name": "stdout"
        },
        {
          "output_type": "execute_result",
          "data": {
            "text/plain": [
              "<keras.callbacks.History at 0x7ff0e7be6c50>"
            ]
          },
          "metadata": {
            "tags": []
          },
          "execution_count": 15
        }
      ]
    },
    {
      "cell_type": "markdown",
      "metadata": {
        "id": "oh65JphtXni0",
        "colab_type": "text"
      },
      "source": [
        "Seeing the Recontruction\n",
        "---\n",
        "After trained the encoder, decoder and AE can be used to extract feature, produce image and reconstruct. \n"
      ]
    },
    {
      "cell_type": "code",
      "metadata": {
        "id": "XhyCzigNXy-E",
        "colab_type": "code",
        "outputId": "cfc0fe10-1790-4335-cbe1-fed1f5582574",
        "colab": {
          "base_uri": "https://localhost:8080/",
          "height": 547
        }
      },
      "source": [
        "img = x_test[888] # get an image from the test dataset\n",
        "imgb = np.reshape(img, (1, 784)) # reshape to have shape [1, 785]\n",
        "recons_img = ae.predict( imgb ) # feed the AE and get outputs.\n",
        "\n",
        "recons_img = np.reshape(recons_img, (28,28)) # reshape the predition to (28, 28)\n",
        "\n",
        "print(\"Original Image\")\n",
        "\n",
        "img_original = np.reshape(img, (28,28)) # reshape from flatten to squared image.\n",
        "\n",
        "plt.imshow(img_original)\n",
        "plt.show()\n",
        "print(\"Reconstructed Image\")\n",
        "plt.imshow(recons_img)\n",
        "plt.show()\n"
      ],
      "execution_count": 0,
      "outputs": [
        {
          "output_type": "stream",
          "text": [
            "Original Image\n"
          ],
          "name": "stdout"
        },
        {
          "output_type": "display_data",
          "data": {
            "image/png": "[encoded data removed]",
            "text/plain": [
              "<Figure size 432x288 with 1 Axes>"
            ]
          },
          "metadata": {
            "tags": []
          }
        },
        {
          "output_type": "stream",
          "text": [
            "Reconstructed Image\n"
          ],
          "name": "stdout"
        },
        {
          "output_type": "display_data",
          "data": {
            "image/png": "[encoded data removed]",
            "text/plain": [
              "<Figure size 432x288 with 1 Axes>"
            ]
          },
          "metadata": {
            "tags": []
          }
        }
      ]
    },
    {
      "cell_type": "markdown",
      "metadata": {
        "id": "_HFSarHXeAmk",
        "colab_type": "text"
      },
      "source": [
        "Tasks\n",
        "---\n",
        "1. Change the Optimizer from RMSProp to Adam. Is there some difference?\n",
        "2. Change cross_entropy loss for mean_squared_error. What are the difference in aspect of the reconstructed image?\n",
        "3. Add a Dense layer in the encoder and decoder with 256 neurons. What is the behavior of the loss during the training?\n"
      ]
    }
  ]
}